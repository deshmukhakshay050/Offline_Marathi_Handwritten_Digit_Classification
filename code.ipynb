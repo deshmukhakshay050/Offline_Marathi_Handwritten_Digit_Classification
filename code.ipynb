{
 "cells": [
  {
   "cell_type": "code",
   "execution_count": 4,
   "metadata": {},
   "outputs": [],
   "source": [
    "import numpy as np\n",
    "\n",
    "\n",
    "\n",
    "from keras.models import Sequential\n",
    "from keras.layers import Dense\n",
    "from keras.layers import Dropout\n",
    "from keras.layers import Flatten\n",
    "from keras.layers.convolutional import Conv2D\n",
    "from keras.layers.convolutional import MaxPooling2D\n",
    "from keras.utils import np_utils\n",
    "from keras import backend as K\n",
    "K.set_image_dim_ordering('th')\n",
    "import pandas as pd\n",
    "import numpy as np\n",
    "\n",
    "from keras.layers.convolutional import Convolution2D\n",
    "from keras.layers.core import Activation\n",
    "\n",
    "\n",
    "\n",
    "\n"
   ]
  },
  {
   "cell_type": "code",
   "execution_count": 6,
   "metadata": {},
   "outputs": [],
   "source": [
    "data0=pd.read_csv('20000.csv') "
   ]
  },
  {
   "cell_type": "code",
   "execution_count": 7,
   "metadata": {},
   "outputs": [
    {
     "data": {
      "text/plain": [
       "(20000, 785)"
      ]
     },
     "execution_count": 7,
     "metadata": {},
     "output_type": "execute_result"
    }
   ],
   "source": [
    "data0.shape"
   ]
  },
  {
   "cell_type": "code",
   "execution_count": null,
   "metadata": {
    "collapsed": true
   },
   "outputs": [],
   "source": []
  },
  {
   "cell_type": "code",
   "execution_count": null,
   "metadata": {
    "collapsed": true
   },
   "outputs": [],
   "source": []
  },
  {
   "cell_type": "code",
   "execution_count": 2,
   "metadata": {
    "collapsed": true
   },
   "outputs": [],
   "source": [
    "data1 = np.load('marathi_numerals_DATA.npy')"
   ]
  },
  {
   "cell_type": "code",
   "execution_count": 3,
   "metadata": {
    "collapsed": true
   },
   "outputs": [],
   "source": [
    "data2 = np.load('marathi_numerals_LABEL.npy')"
   ]
  },
  {
   "cell_type": "code",
   "execution_count": 5,
   "metadata": {},
   "outputs": [
    {
     "data": {
      "text/plain": [
       "((80062, 1, 28, 28), (80062, 10))"
      ]
     },
     "execution_count": 5,
     "metadata": {},
     "output_type": "execute_result"
    }
   ],
   "source": [
    "data1.shape,data2.shape"
   ]
  },
  {
   "cell_type": "code",
   "execution_count": 6,
   "metadata": {},
   "outputs": [
    {
     "data": {
      "text/plain": [
       "((10000, 1, 28, 28),\n",
       " (10000, 1, 28, 28),\n",
       " (10000, 1, 28, 28),\n",
       " (10000, 1, 28, 28),\n",
       " (10000, 1, 28, 28),\n",
       " (10000, 1, 28, 28),\n",
       " (10000, 1, 28, 28),\n",
       " (10000, 1, 28, 28))"
      ]
     },
     "execution_count": 6,
     "metadata": {},
     "output_type": "execute_result"
    }
   ],
   "source": [
    "x1=data1[0:2000,:,:,:]\n",
    "x2=data1[2000:4000,:,:,:]\n",
    "x3=data1[4000:6000,:,:,:]\n",
    "x4=data1[6000:8000,:,:,:]\n",
    "x5=data1[40000:42000,:,:,:]\n",
    "x6=data1[50000:60000,:,:,:]\n",
    "x7=data1[60000:70000,:,:,:]\n",
    "xtest=data1[70000:80000,:,:,:]\n",
    "x1.shape,x2.shape,x3.shape,x4.shape,x5.shape,x6.shape,x7.shape,xtest.shape\n"
   ]
  },
  {
   "cell_type": "code",
   "execution_count": 7,
   "metadata": {},
   "outputs": [
    {
     "data": {
      "text/plain": [
       "((10000, 10),\n",
       " (10000, 10),\n",
       " (10000, 10),\n",
       " (10000, 10),\n",
       " (10000, 10),\n",
       " (10000, 10),\n",
       " (10000, 10),\n",
       " (10000, 10))"
      ]
     },
     "execution_count": 7,
     "metadata": {},
     "output_type": "execute_result"
    }
   ],
   "source": [
    "y1=data2[0:10000,:]\n",
    "y2=data2[10000:20000,:]\n",
    "y3=data2[20000:30000,:]\n",
    "y4=data2[30000:40000,:]\n",
    "y5=data2[40000:50000,:]\n",
    "y6=data2[50000:60000,:]\n",
    "y7=data2[60000:70000,:]\n",
    "ytest=data2[70000:80000,:]\n",
    "y1.shape,y2.shape,y3.shape,y4.shape,y5.shape,y6.shape,y7.shape,ytest.shape"
   ]
  },
  {
   "cell_type": "code",
   "execution_count": 8,
   "metadata": {},
   "outputs": [
    {
     "data": {
      "text/plain": [
       "((60000, 1, 28, 28), (60000, 10))"
      ]
     },
     "execution_count": 8,
     "metadata": {},
     "output_type": "execute_result"
    }
   ],
   "source": [
    "xtrain1=np.append(x1,x2,axis=0)\n",
    "xtrain1=np.append(xtrain1,x3,axis=0)\n",
    "xtrain1=np.append(xtrain1,x4,axis=0)\n",
    "xtrain1=np.append(xtrain1,x5,axis=0)\n",
    "xtrain1=np.append(xtrain1,x6,axis=0)\n",
    "\n",
    "\n",
    "ytrain1=np.append(y1,y2,axis=0)\n",
    "ytrain1=np.append(ytrain1,y3,axis=0)\n",
    "ytrain1=np.append(ytrain1,y4,axis=0)\n",
    "ytrain1=np.append(ytrain1,y5,axis=0)\n",
    "ytrain1=np.append(ytrain1,y6,axis=0)\n",
    "\n",
    "\n",
    "\n",
    "xtest1=x7\n",
    "ytest1=y7\n",
    "\n",
    "xtrain1.shape,ytrain1.shape\n",
    "\n",
    "\n"
   ]
  },
  {
   "cell_type": "code",
   "execution_count": 9,
   "metadata": {},
   "outputs": [
    {
     "data": {
      "text/plain": [
       "((60000, 1, 28, 28), (60000, 10))"
      ]
     },
     "execution_count": 9,
     "metadata": {},
     "output_type": "execute_result"
    }
   ],
   "source": [
    "xtrain2=np.append(x1,x2,axis=0)\n",
    "xtrain2=np.append(xtrain2,x3,axis=0)\n",
    "xtrain2=np.append(xtrain2,x4,axis=0)\n",
    "xtrain2=np.append(xtrain2,x5,axis=0)\n",
    "xtrain2=np.append(xtrain2,x7,axis=0)\n",
    "\n",
    "\n",
    "ytrain2=np.append(y1,y2,axis=0)\n",
    "ytrain2=np.append(ytrain2,y3,axis=0)\n",
    "ytrain2=np.append(ytrain2,y4,axis=0)\n",
    "ytrain2=np.append(ytrain2,y5,axis=0)\n",
    "ytrain2=np.append(ytrain2,y7,axis=0)\n",
    "\n",
    "\n",
    "\n",
    "xtest2=x6\n",
    "ytest2=y6\n",
    "\n",
    "xtrain2.shape,ytrain2.shape\n"
   ]
  },
  {
   "cell_type": "code",
   "execution_count": 10,
   "metadata": {},
   "outputs": [
    {
     "data": {
      "text/plain": [
       "((60000, 1, 28, 28), (60000, 10))"
      ]
     },
     "execution_count": 10,
     "metadata": {},
     "output_type": "execute_result"
    }
   ],
   "source": [
    "xtrain3=np.append(x1,x2,axis=0)\n",
    "xtrain3=np.append(xtrain3,x3,axis=0)\n",
    "xtrain3=np.append(xtrain3,x4,axis=0)\n",
    "xtrain3=np.append(xtrain3,x6,axis=0)\n",
    "xtrain3=np.append(xtrain3,x7,axis=0)\n",
    "\n",
    "\n",
    "ytrain3=np.append(y1,y2,axis=0)\n",
    "ytrain3=np.append(ytrain3,y3,axis=0)\n",
    "ytrain3=np.append(ytrain3,y4,axis=0)\n",
    "ytrain3=np.append(ytrain3,y6,axis=0)\n",
    "ytrain3=np.append(ytrain3,y7,axis=0)\n",
    "\n",
    "\n",
    "\n",
    "xtest3=x5\n",
    "ytest3=y5\n",
    "\n",
    "xtrain3.shape,ytrain3.shape\n"
   ]
  },
  {
   "cell_type": "code",
   "execution_count": 12,
   "metadata": {},
   "outputs": [
    {
     "data": {
      "text/plain": [
       "((60000, 1, 28, 28), (60000, 10))"
      ]
     },
     "execution_count": 12,
     "metadata": {},
     "output_type": "execute_result"
    }
   ],
   "source": [
    "xtrain4=np.append(x1,x2,axis=0)\n",
    "xtrain4=np.append(xtrain4,x3,axis=0)\n",
    "xtrain4=np.append(xtrain4,x5,axis=0)\n",
    "xtrain4=np.append(xtrain4,x6,axis=0)\n",
    "xtrain4=np.append(xtrain4,x7,axis=0)\n",
    "\n",
    "\n",
    "ytrain4=np.append(y1,y2,axis=0)\n",
    "ytrain4=np.append(ytrain4,y3,axis=0)\n",
    "ytrain4=np.append(ytrain4,y5,axis=0)\n",
    "ytrain4=np.append(ytrain4,y6,axis=0)\n",
    "ytrain4=np.append(ytrain4,y7,axis=0)\n",
    "\n",
    "\n",
    "\n",
    "xtest4=x4\n",
    "ytest4=y4\n",
    "\n",
    "xtrain4.shape,ytrain4.shape"
   ]
  },
  {
   "cell_type": "code",
   "execution_count": 13,
   "metadata": {},
   "outputs": [
    {
     "data": {
      "text/plain": [
       "((60000, 1, 28, 28), (60000, 10))"
      ]
     },
     "execution_count": 13,
     "metadata": {},
     "output_type": "execute_result"
    }
   ],
   "source": [
    "xtrain5=np.append(x1,x2,axis=0)\n",
    "xtrain5=np.append(xtrain5,x4,axis=0)\n",
    "xtrain5=np.append(xtrain5,x5,axis=0)\n",
    "xtrain5=np.append(xtrain5,x6,axis=0)\n",
    "xtrain5=np.append(xtrain5,x7,axis=0)\n",
    "\n",
    "\n",
    "ytrain5=np.append(y1,y2,axis=0)\n",
    "ytrain5=np.append(ytrain5,y4,axis=0)\n",
    "ytrain5=np.append(ytrain5,y5,axis=0)\n",
    "ytrain5=np.append(ytrain5,y6,axis=0)\n",
    "ytrain5=np.append(ytrain5,y7,axis=0)\n",
    "\n",
    "\n",
    "\n",
    "xtest5=x3\n",
    "ytest5=y3\n",
    "\n",
    "xtrain5.shape,ytrain5.shape"
   ]
  },
  {
   "cell_type": "code",
   "execution_count": 14,
   "metadata": {},
   "outputs": [
    {
     "data": {
      "text/plain": [
       "((60000, 1, 28, 28), (60000, 10))"
      ]
     },
     "execution_count": 14,
     "metadata": {},
     "output_type": "execute_result"
    }
   ],
   "source": [
    "xtrain6=np.append(x1,x3,axis=0)\n",
    "xtrain6=np.append(xtrain6,x4,axis=0)\n",
    "xtrain6=np.append(xtrain6,x5,axis=0)\n",
    "xtrain6=np.append(xtrain6,x6,axis=0)\n",
    "xtrain6=np.append(xtrain6,x7,axis=0)\n",
    "\n",
    "\n",
    "ytrain6=np.append(y1,y3,axis=0)\n",
    "ytrain6=np.append(ytrain6,y4,axis=0)\n",
    "ytrain6=np.append(ytrain6,y5,axis=0)\n",
    "ytrain6=np.append(ytrain6,y6,axis=0)\n",
    "ytrain6=np.append(ytrain6,y7,axis=0)\n",
    "\n",
    "\n",
    "\n",
    "xtest6=x2\n",
    "ytest6=y2\n",
    "\n",
    "xtrain6.shape,ytrain6.shape"
   ]
  },
  {
   "cell_type": "code",
   "execution_count": 15,
   "metadata": {},
   "outputs": [
    {
     "data": {
      "text/plain": [
       "((60000, 1, 28, 28), (60000, 10))"
      ]
     },
     "execution_count": 15,
     "metadata": {},
     "output_type": "execute_result"
    }
   ],
   "source": [
    "xtrain7=np.append(x2,x3,axis=0)\n",
    "xtrain7=np.append(xtrain7,x4,axis=0)\n",
    "xtrain7=np.append(xtrain7,x5,axis=0)\n",
    "xtrain7=np.append(xtrain7,x6,axis=0)\n",
    "xtrain7=np.append(xtrain7,x7,axis=0)\n",
    "\n",
    "\n",
    "ytrain7=np.append(y2,y3,axis=0)\n",
    "ytrain7=np.append(ytrain7,y4,axis=0)\n",
    "ytrain7=np.append(ytrain7,y5,axis=0)\n",
    "ytrain7=np.append(ytrain7,y6,axis=0)\n",
    "ytrain7=np.append(ytrain7,y7,axis=0)\n",
    "\n",
    "\n",
    "\n",
    "xtest7=x1\n",
    "ytest7=y1\n",
    "\n",
    "xtrain7.shape,ytrain7.shape"
   ]
  },
  {
   "cell_type": "code",
   "execution_count": 17,
   "metadata": {},
   "outputs": [
    {
     "name": "stderr",
     "output_type": "stream",
     "text": [
      "/home/akshay/anaconda3/lib/python3.6/site-packages/ipykernel_launcher.py:4: UserWarning: Update your `Conv2D` call to the Keras 2 API: `Conv2D(32, (3, 3), input_shape=(1, 28, 28...)`\n",
      "  after removing the cwd from sys.path.\n",
      "/home/akshay/anaconda3/lib/python3.6/site-packages/ipykernel_launcher.py:9: UserWarning: Update your `Conv2D` call to the Keras 2 API: `Conv2D(32, (3, 3))`\n",
      "  if __name__ == '__main__':\n",
      "/home/akshay/anaconda3/lib/python3.6/site-packages/ipykernel_launcher.py:18: UserWarning: Update your `Conv2D` call to the Keras 2 API: `Conv2D(64, (3, 3))`\n"
     ]
    }
   ],
   "source": [
    "model=Sequential()\n",
    "\n",
    "\n",
    "model.add(Convolution2D(32, 3, 3, input_shape=(1,28,28))) \n",
    "p1= Activation('relu')\n",
    "model.add(p1)\n",
    "\n",
    "\n",
    "model.add(Convolution2D(32, 3, 3))\n",
    "p2=Activation('relu')\n",
    "model.add(p2)\n",
    "\n",
    "\n",
    "model.add(MaxPooling2D(pool_size=(2, 2)))\n",
    "\n",
    "\n",
    "\n",
    "model.add(Convolution2D(64, 3,3 ))\n",
    "p3=Activation('relu')\n",
    "model.add(p3)\n",
    "model.add(MaxPooling2D(pool_size=(2, 2)))\n",
    "\n",
    "\n",
    "          \n",
    "model.add(Dropout(0.2))\n",
    "p4=Flatten()\n",
    "model.add(p4)\n",
    "\n",
    "\n",
    "model.add(Dropout(0.2))\n",
    "\n",
    "\n",
    "model.add(Dense(400, activation='relu'))\n",
    "model.add(Dropout(0.3))\n",
    "\n",
    "model.add(Dense(150, activation='relu'))\n",
    "model.add(Dense(10, activation='softmax'))    \n",
    "\n",
    "\n",
    "\n",
    "model.compile(loss='categorical_crossentropy', optimizer='adam', metrics=['accuracy'])\n",
    "\n"
   ]
  },
  {
   "cell_type": "code",
   "execution_count": 18,
   "metadata": {},
   "outputs": [
    {
     "name": "stdout",
     "output_type": "stream",
     "text": [
      "_________________________________________________________________\n",
      "Layer (type)                 Output Shape              Param #   \n",
      "=================================================================\n",
      "conv2d_4 (Conv2D)            (None, 32, 26, 26)        320       \n",
      "_________________________________________________________________\n",
      "activation_4 (Activation)    (None, 32, 26, 26)        0         \n",
      "_________________________________________________________________\n",
      "conv2d_5 (Conv2D)            (None, 32, 24, 24)        9248      \n",
      "_________________________________________________________________\n",
      "activation_5 (Activation)    (None, 32, 24, 24)        0         \n",
      "_________________________________________________________________\n",
      "max_pooling2d_3 (MaxPooling2 (None, 32, 12, 12)        0         \n",
      "_________________________________________________________________\n",
      "conv2d_6 (Conv2D)            (None, 64, 10, 10)        18496     \n",
      "_________________________________________________________________\n",
      "activation_6 (Activation)    (None, 64, 10, 10)        0         \n",
      "_________________________________________________________________\n",
      "max_pooling2d_4 (MaxPooling2 (None, 64, 5, 5)          0         \n",
      "_________________________________________________________________\n",
      "dropout_4 (Dropout)          (None, 64, 5, 5)          0         \n",
      "_________________________________________________________________\n",
      "flatten_2 (Flatten)          (None, 1600)              0         \n",
      "_________________________________________________________________\n",
      "dropout_5 (Dropout)          (None, 1600)              0         \n",
      "_________________________________________________________________\n",
      "dense_4 (Dense)              (None, 400)               640400    \n",
      "_________________________________________________________________\n",
      "dropout_6 (Dropout)          (None, 400)               0         \n",
      "_________________________________________________________________\n",
      "dense_5 (Dense)              (None, 150)               60150     \n",
      "_________________________________________________________________\n",
      "dense_6 (Dense)              (None, 10)                1510      \n",
      "=================================================================\n",
      "Total params: 730,124\n",
      "Trainable params: 730,124\n",
      "Non-trainable params: 0\n",
      "_________________________________________________________________\n"
     ]
    }
   ],
   "source": [
    "model.summary()"
   ]
  },
  {
   "cell_type": "code",
   "execution_count": 19,
   "metadata": {},
   "outputs": [
    {
     "name": "stdout",
     "output_type": "stream",
     "text": [
      "Train on 60000 samples, validate on 10000 samples\n",
      "Epoch 1/1\n",
      "60000/60000 [==============================] - 764s 13ms/step - loss: 1.1465 - acc: 0.6085 - val_loss: 0.5082 - val_acc: 0.8371\n",
      "Train on 60000 samples, validate on 10000 samples\n",
      "Epoch 1/1\n",
      "60000/60000 [==============================] - 769s 13ms/step - loss: 0.5312 - acc: 0.8238 - val_loss: 0.3559 - val_acc: 0.8855\n",
      "Train on 60000 samples, validate on 10000 samples\n",
      "Epoch 1/1\n",
      "60000/60000 [==============================] - 879s 15ms/step - loss: 0.4194 - acc: 0.8586 - val_loss: 0.3186 - val_acc: 0.8905\n",
      "Train on 60000 samples, validate on 10000 samples\n",
      "Epoch 1/1\n",
      "60000/60000 [==============================] - 897s 15ms/step - loss: 0.3582 - acc: 0.8799 - val_loss: 0.2412 - val_acc: 0.9216\n",
      "Train on 60000 samples, validate on 10000 samples\n",
      "Epoch 1/1\n",
      "60000/60000 [==============================] - 916s 15ms/step - loss: 0.3133 - acc: 0.8945 - val_loss: 0.2353 - val_acc: 0.9202\n",
      "Train on 60000 samples, validate on 10000 samples\n",
      "Epoch 1/1\n",
      "60000/60000 [==============================] - 951s 16ms/step - loss: 0.2853 - acc: 0.9021 - val_loss: 0.2135 - val_acc: 0.9272\n",
      "Train on 60000 samples, validate on 10000 samples\n",
      "Epoch 1/1\n",
      "60000/60000 [==============================] - 1085s 18ms/step - loss: 0.2621 - acc: 0.9105 - val_loss: 0.1791 - val_acc: 0.9433\n",
      "Train on 60000 samples, validate on 10000 samples\n",
      "Epoch 1/1\n",
      "60000/60000 [==============================] - 1139s 19ms/step - loss: 0.2550 - acc: 0.9136 - val_loss: 0.1565 - val_acc: 0.9489\n",
      "Train on 60000 samples, validate on 10000 samples\n",
      "Epoch 1/1\n",
      "60000/60000 [==============================] - 1040s 17ms/step - loss: 0.2313 - acc: 0.9212 - val_loss: 0.1328 - val_acc: 0.9575\n",
      "Train on 60000 samples, validate on 10000 samples\n",
      "Epoch 1/1\n",
      "60000/60000 [==============================] - 1040s 17ms/step - loss: 0.2177 - acc: 0.9252 - val_loss: 0.1449 - val_acc: 0.9525\n",
      "Train on 60000 samples, validate on 10000 samples\n",
      "Epoch 1/1\n",
      "60000/60000 [==============================] - 1082s 18ms/step - loss: 0.2062 - acc: 0.9296 - val_loss: 0.1233 - val_acc: 0.9608\n",
      "Train on 60000 samples, validate on 10000 samples\n",
      "Epoch 1/1\n",
      "60000/60000 [==============================] - 1060s 18ms/step - loss: 0.1935 - acc: 0.9338 - val_loss: 0.1407 - val_acc: 0.9525\n",
      "Train on 60000 samples, validate on 10000 samples\n",
      "Epoch 1/1\n",
      "60000/60000 [==============================] - 1082s 18ms/step - loss: 0.1851 - acc: 0.9368 - val_loss: 0.1190 - val_acc: 0.9621\n",
      "Train on 60000 samples, validate on 10000 samples\n",
      "Epoch 1/1\n",
      "60000/60000 [==============================] - 1126s 19ms/step - loss: 0.1769 - acc: 0.9395 - val_loss: 0.1056 - val_acc: 0.9672\n",
      "Test accuracy: 0.9696\n"
     ]
    }
   ],
   "source": [
    "for i in range(2):\n",
    "    model.fit(xtrain1, ytrain1,validation_data=[xtest1,ytest1], epochs=1, batch_size=200)\n",
    "    model.fit(xtrain2, ytrain2,validation_data=[xtest2,ytest2], epochs=1, batch_size=200)\n",
    "    model.fit(xtrain3, ytrain3,validation_data=[xtest3,ytest3], epochs=1, batch_size=200)\n",
    "    model.fit(xtrain4, ytrain4,validation_data=[xtest4,ytest4], epochs=1, batch_size=200)\n",
    "    model.fit(xtrain5, ytrain5,validation_data=[xtest5,ytest5], epochs=1, batch_size=200)\n",
    "    model.fit(xtrain6, ytrain6,validation_data=[xtest6,ytest6], epochs=1, batch_size=200)\n",
    "    model.fit(xtrain7, ytrain7,validation_data=[xtest7,ytest7], epochs=1, batch_size=200)\n",
    "\n",
    "\n",
    "scores = model.evaluate(xtest, ytest, verbose=0)\n",
    "print('Test accuracy:', scores[1])\n"
   ]
  },
  {
   "cell_type": "code",
   "execution_count": null,
   "metadata": {
    "collapsed": true
   },
   "outputs": [],
   "source": []
  },
  {
   "cell_type": "code",
   "execution_count": 14,
   "metadata": {},
   "outputs": [
    {
     "name": "stderr",
     "output_type": "stream",
     "text": [
      "ERROR:root:Internal Python error in the inspect module.\n",
      "Below is the traceback from this internal error.\n",
      "\n"
     ]
    },
    {
     "name": "stdout",
     "output_type": "stream",
     "text": [
      "Traceback (most recent call last):\n",
      "  File \"/home/akshay/anaconda3/lib/python3.6/site-packages/IPython/core/interactiveshell.py\", line 2862, in run_code\n",
      "    exec(code_obj, self.user_global_ns, self.user_ns)\n",
      "  File \"<ipython-input-14-c9c98a05d9cd>\", line 1, in <module>\n",
      "    model_json = model.to_json()\n",
      "NameError: name 'model' is not defined\n",
      "\n",
      "During handling of the above exception, another exception occurred:\n",
      "\n",
      "Traceback (most recent call last):\n",
      "  File \"/home/akshay/anaconda3/lib/python3.6/site-packages/IPython/core/interactiveshell.py\", line 1806, in showtraceback\n",
      "    stb = value._render_traceback_()\n",
      "AttributeError: 'NameError' object has no attribute '_render_traceback_'\n",
      "\n",
      "During handling of the above exception, another exception occurred:\n",
      "\n",
      "Traceback (most recent call last):\n",
      "  File \"/home/akshay/anaconda3/lib/python3.6/site-packages/IPython/core/ultratb.py\", line 1090, in get_records\n",
      "    return _fixed_getinnerframes(etb, number_of_lines_of_context, tb_offset)\n",
      "  File \"/home/akshay/anaconda3/lib/python3.6/site-packages/IPython/core/ultratb.py\", line 311, in wrapped\n",
      "    return f(*args, **kwargs)\n",
      "  File \"/home/akshay/anaconda3/lib/python3.6/site-packages/IPython/core/ultratb.py\", line 345, in _fixed_getinnerframes\n",
      "    records = fix_frame_records_filenames(inspect.getinnerframes(etb, context))\n",
      "  File \"/home/akshay/anaconda3/lib/python3.6/inspect.py\", line 1480, in getinnerframes\n",
      "    frameinfo = (tb.tb_frame,) + getframeinfo(tb, context)\n",
      "  File \"/home/akshay/anaconda3/lib/python3.6/inspect.py\", line 1438, in getframeinfo\n",
      "    filename = getsourcefile(frame) or getfile(frame)\n",
      "  File \"/home/akshay/anaconda3/lib/python3.6/inspect.py\", line 693, in getsourcefile\n",
      "    if getattr(getmodule(object, filename), '__loader__', None) is not None:\n",
      "  File \"/home/akshay/anaconda3/lib/python3.6/inspect.py\", line 736, in getmodule\n",
      "    f = getabsfile(module)\n",
      "  File \"/home/akshay/anaconda3/lib/python3.6/inspect.py\", line 705, in getabsfile\n",
      "    _filename = getsourcefile(object) or getfile(object)\n",
      "  File \"/home/akshay/anaconda3/lib/python3.6/inspect.py\", line 690, in getsourcefile\n",
      "    if os.path.exists(filename):\n",
      "  File \"/home/akshay/anaconda3/lib/python3.6/genericpath.py\", line 19, in exists\n",
      "    os.stat(path)\n",
      "KeyboardInterrupt\n"
     ]
    },
    {
     "ename": "NameError",
     "evalue": "name 'model' is not defined",
     "output_type": "error",
     "traceback": [
      "\u001b[0;31m---------------------------------------------------------------------------\u001b[0m"
     ]
    }
   ],
   "source": [
    "model_json = model.to_json()\n",
    "\n",
    "\n",
    "\n",
    "with open(\"model_marathi_cnn_2.json\", \"w\") as json_file:\n",
    "    json_file.write(model_json)\n",
    "# serialize weights to HDF5\n",
    "model.save_weights(\"model_marathi_cnn_2.h5\")\n",
    "print(\"Saved model to disk\")"
   ]
  },
  {
   "cell_type": "code",
   "execution_count": 1,
   "metadata": {},
   "outputs": [
    {
     "name": "stderr",
     "output_type": "stream",
     "text": [
      "/home/akshay/anaconda3/lib/python3.6/site-packages/h5py/__init__.py:34: FutureWarning: Conversion of the second argument of issubdtype from `float` to `np.floating` is deprecated. In future, it will be treated as `np.float64 == np.dtype(float).type`.\n",
      "  from ._conv import register_converters as _register_converters\n",
      "Using TensorFlow backend.\n"
     ]
    }
   ],
   "source": [
    "from keras.models import model_from_json\n",
    "\n",
    "json_file = open('model_marathi_cnn_2.json', 'r')\n",
    "loaded_model_json = json_file.read()\n",
    "json_file.close()\n",
    "loaded_model = model_from_json(loaded_model_json)\n",
    "# load weights into new model\n",
    "loaded_model.load_weights(\"model_marathi_cnn_2.h5\")\n",
    "\n",
    "model=loaded_model\n",
    "\n",
    "\n"
   ]
  },
  {
   "cell_type": "code",
   "execution_count": null,
   "metadata": {
    "collapsed": true
   },
   "outputs": [],
   "source": []
  },
  {
   "cell_type": "code",
   "execution_count": 15,
   "metadata": {},
   "outputs": [
    {
     "name": "stdout",
     "output_type": "stream",
     "text": [
      "Train on 60000 samples, validate on 10000 samples\n",
      "Epoch 1/1\n",
      "60000/60000 [==============================] - 886s 15ms/step - loss: 0.1372 - acc: 0.9523 - val_loss: 0.0464 - val_acc: 0.9876\n",
      "Train on 60000 samples, validate on 10000 samples\n",
      "Epoch 1/1\n",
      "60000/60000 [==============================] - 1030s 17ms/step - loss: 0.1287 - acc: 0.9551 - val_loss: 0.0433 - val_acc: 0.9886\n"
     ]
    },
    {
     "data": {
      "text/plain": [
       "<keras.callbacks.History at 0x7f05a794bf60>"
      ]
     },
     "execution_count": 15,
     "metadata": {},
     "output_type": "execute_result"
    }
   ],
   "source": [
    "model.compile(loss='categorical_crossentropy', optimizer='adam', metrics=['accuracy'])\n",
    "model.fit(xtrain1, ytrain1,validation_data=[xtest1,ytest1], epochs=1, batch_size=200)\n",
    "model.fit(xtrain2, ytrain2,validation_data=[xtest2,ytest2], epochs=1, batch_size=200)"
   ]
  },
  {
   "cell_type": "code",
   "execution_count": 16,
   "metadata": {},
   "outputs": [
    {
     "name": "stdout",
     "output_type": "stream",
     "text": [
      "Test accuracy: 0.9895666666666667\n"
     ]
    }
   ],
   "source": [
    "scores = model.evaluate(xtrain1, ytrain1, verbose=0)\n",
    "print('Test accuracy:', scores[1])"
   ]
  },
  {
   "cell_type": "code",
   "execution_count": 17,
   "metadata": {},
   "outputs": [
    {
     "name": "stdout",
     "output_type": "stream",
     "text": [
      "Test accuracy: 0.9900166666666667\n"
     ]
    }
   ],
   "source": [
    "scores = model.evaluate(xtrain2, ytrain2, verbose=0)\n",
    "print('Test accuracy:', scores[1])"
   ]
  },
  {
   "cell_type": "code",
   "execution_count": 18,
   "metadata": {},
   "outputs": [
    {
     "name": "stdout",
     "output_type": "stream",
     "text": [
      "Test accuracy: 0.9897\n"
     ]
    }
   ],
   "source": [
    "scores = model.evaluate(xtrain3, ytrain3, verbose=0)\n",
    "print('Test accuracy:', scores[1])"
   ]
  },
  {
   "cell_type": "code",
   "execution_count": 19,
   "metadata": {},
   "outputs": [
    {
     "name": "stdout",
     "output_type": "stream",
     "text": [
      "Test accuracy: 0.9894333333333334\n"
     ]
    }
   ],
   "source": [
    "scores = model.evaluate(xtrain4, ytrain4, verbose=0)\n",
    "print('Test accuracy:', scores[1])"
   ]
  },
  {
   "cell_type": "code",
   "execution_count": 21,
   "metadata": {},
   "outputs": [
    {
     "name": "stdout",
     "output_type": "stream",
     "text": [
      "Test accuracy: 0.9744\n"
     ]
    }
   ],
   "source": [
    "\n",
    "scores = model.evaluate(xtest, ytest, verbose=0)\n",
    "print('Test accuracy:', scores[1])"
   ]
  },
  {
   "cell_type": "code",
   "execution_count": 2,
   "metadata": {},
   "outputs": [
    {
     "name": "stdout",
     "output_type": "stream",
     "text": [
      "(3, 3, 32, 32) (32,)\n",
      "(3, 3, 1, 32) (32,)\n",
      "(3, 3, 32, 64) (64,)\n"
     ]
    }
   ],
   "source": [
    "w1 = model.layers[0].get_weights()[0]\n",
    "\n",
    "b1 = model.layers[0].get_weights()[1]\n",
    "\n",
    "\n",
    "w2 = model.layers[2].get_weights()[0]\n",
    "b2 = model.layers[2].get_weights()[1]\n",
    "\n",
    "\n",
    "w3 = model.layers[5].get_weights()[0]\n",
    "b3 = model.layers[5].get_weights()[1]\n",
    "\n",
    "\n",
    "print(w2.shape,b2.shape)\n",
    "print(w1.shape,b1.shape)\n",
    "print(w3.shape,b3.shape)\n"
   ]
  },
  {
   "cell_type": "code",
   "execution_count": 18,
   "metadata": {},
   "outputs": [
    {
     "name": "stdout",
     "output_type": "stream",
     "text": [
      "(1, 28, 28)\n"
     ]
    }
   ],
   "source": [
    "import matplotlib.pyplot as plt\n",
    "import matplotlib.cm as cmplt\n",
    "img=x4[4]\n",
    "\n",
    "print(img.shape)\n",
    "img=np.expand_dims(img,axis=0)\n",
    "\n",
    "def layer_to_visualize(layer):\n",
    "    inputs = [K.learning_phase()] + model.inputs\n",
    "\n",
    "    _convout1_f = K.function(inputs, [layer.output])\n",
    "    def convout1_f(X):\n",
    "        # The [0] is to disable the training phase flag\n",
    "        return _convout1_f([0] + [X])\n",
    "\n",
    "    convolutions = convout1_f(img)\n",
    "    convolutions = np.squeeze(convolutions)\n",
    "    print ('Shape of conv:', convolutions.shape)\n",
    "    \n",
    "    n = convolutions.shape[0]\n",
    "    n = int(np.ceil(np.sqrt(n)))\n",
    "    print(convolutions.shape)\n",
    "    \n",
    "    \n",
    "    fig = plt.figure(figsize=(12,8))\n",
    "    for i in range(len(convolutions)):\n",
    "        ax = fig.add_subplot(n,n,i+1)\n",
    "        ax.imshow(convolutions[i], cmap='gray')\n",
    "       \n",
    "    return convolutions\n"
   ]
  },
  {
   "cell_type": "code",
   "execution_count": 21,
   "metadata": {},
   "outputs": [
    {
     "name": "stdout",
     "output_type": "stream",
     "text": [
      "Shape of conv: (32, 26, 26)\n",
      "(32, 26, 26)\n",
      "Shape of conv: (32, 24, 24)\n",
      "(32, 24, 24)\n",
      "Shape of conv: (64, 10, 10)\n",
      "(64, 10, 10)\n"
     ]
    }
   ],
   "source": [
    "f1=layer_to_visualize(model.layers[1])#Visualization of conv layers on activation relu\n",
    "f2=layer_to_visualize(model.layers[3])\n",
    "f3=layer_to_visualize(model.layers[6])"
   ]
  },
  {
   "cell_type": "code",
   "execution_count": 22,
   "metadata": {},
   "outputs": [
    {
     "data": {
      "image/png": "[encoded data removed]",
      "text/plain": [
       "<matplotlib.figure.Figure at 0x7f260f4c8668>"
      ]
     },
     "metadata": {},
     "output_type": "display_data"
    },
    {
     "data": {
      "image/png": "[encoded data removed]",
      "text/plain": [
       "<matplotlib.figure.Figure at 0x7f26010a9278>"
      ]
     },
     "metadata": {},
     "output_type": "display_data"
    },
    {
     "data": {
      "image/png": "[encoded data removed]",
      "text/plain": [
       "<matplotlib.figure.Figure at 0x7f260f1357b8>"
      ]
     },
     "metadata": {},
     "output_type": "display_data"
    }
   ],
   "source": [
    "plt.show()"
   ]
  },
  {
   "cell_type": "code",
   "execution_count": 19,
   "metadata": {},
   "outputs": [
    {
     "name": "stdout",
     "output_type": "stream",
     "text": [
      "Shape of conv: (32, 12, 12)\n",
      "(32, 12, 12)\n",
      "Shape of conv: (64, 5, 5)\n",
      "(64, 5, 5)\n"
     ]
    }
   ],
   "source": [
    "f3=layer_to_visualize(model.layers[4])\n",
    "f4=layer_to_visualize(model.layers[7])#Visualization of maxpool layers on "
   ]
  },
  {
   "cell_type": "code",
   "execution_count": 20,
   "metadata": {},
   "outputs": [
    {
     "data": {
      "image/png": "[encoded data removed]",
      "text/plain": [
       "<matplotlib.figure.Figure at 0x7f2612b9eb00>"
      ]
     },
     "metadata": {},
     "output_type": "display_data"
    },
    {
     "data": {
      "image/png": "[encoded data removed]",
      "text/plain": [
       "<matplotlib.figure.Figure at 0x7f260f6312b0>"
      ]
     },
     "metadata": {},
     "output_type": "display_data"
    }
   ],
   "source": [
    "plt.show()"
   ]
  },
  {
   "cell_type": "code",
   "execution_count": 3,
   "metadata": {
    "collapsed": true
   },
   "outputs": [],
   "source": [
    "from keras.models import Model \n",
    "\n",
    "model1=Model(inputs=model.input,outputs=model.layers[9].output) "
   ]
  },
  {
   "cell_type": "code",
   "execution_count": 19,
   "metadata": {
    "collapsed": true
   },
   "outputs": [],
   "source": [
    "xtrain1=np.append(xtrain1,x7,axis=0)\n",
    "ytrain1=np.append(ytrain1,y7,axis=0)\n",
    "\n",
    "\n"
   ]
  },
  {
   "cell_type": "code",
   "execution_count": 20,
   "metadata": {},
   "outputs": [
    {
     "data": {
      "text/plain": [
       "((70000, 1, 28, 28), (70000, 10))"
      ]
     },
     "execution_count": 20,
     "metadata": {},
     "output_type": "execute_result"
    }
   ],
   "source": [
    "xtrain1.shape,ytrain1.shape"
   ]
  },
  {
   "cell_type": "code",
   "execution_count": 44,
   "metadata": {},
   "outputs": [
    {
     "name": "stdout",
     "output_type": "stream",
     "text": [
      "(70000, 1, 28, 28)\n",
      "7030 6995 7050 7003 6873 6945 6987 7087 7025 7005\n"
     ]
    }
   ],
   "source": [
    "import numpy as np\n",
    "\n",
    "x0=np.array(np.zeros(shape=(7030,1,28,28)))\n",
    "x1=np.array(np.zeros(shape=(6995,1,28,28)))\n",
    "x2=np.array(np.zeros(shape=(7050,1,28,28)))\n",
    "x3=np.array(np.zeros(shape=(7003,1,28,28)))\n",
    "x4=np.array(np.zeros(shape=(6873,1,28,28)))\n",
    "x5=np.array(np.zeros(shape=(6945,1,28,28)))\n",
    "x6=np.array(np.zeros(shape=(6987,1,28,28)))\n",
    "x7=np.array(np.zeros(shape=(7087,1,28,28)))\n",
    "x8=np.array(np.zeros(shape=(7025,1,28,28)))\n",
    "x9=np.array(np.zeros(shape=(7005,1,28,28)))\n",
    "\n",
    "\n",
    "print(xtrain1.shape)\n",
    "\n",
    "i0=i1=i2=i3=i4=i5=i6=i7=i8=i9=0\n",
    "\n",
    "\n",
    "for i in range(len(ytrain1)):\n",
    "    y=np.argmax(ytrain1[i])\n",
    "    if(y==0):\n",
    "        x0[i0,:,:,:]=xtrain1[i,:,:,:]\n",
    "        i0=i0+1\n",
    "    elif(y==1):\n",
    "        x1[i1,:,:,:]=xtrain1[i,:,:,:]\n",
    "        i1=i1+1\n",
    "    elif(y==2):\n",
    "        x2[i2,:,:,:]=xtrain1[i,:,:,:]\n",
    "        i2=i2+1\n",
    "    elif(y==3):\n",
    "        x3[i3,:,:,:]=xtrain1[i,:,:,:]\n",
    "        i3=i3+1\n",
    "    elif(y==4):\n",
    "        x4[i4,:,:]=xtrain1[i,:,:]\n",
    "        i4=i4+1\n",
    "    elif(y==5):\n",
    "        x5[i5,:,:]=xtrain1[i,:,:]\n",
    "        i5=i5+1\n",
    "    elif(y==6):\n",
    "        x6[i6,:,:]=xtrain1[i,:,:]\n",
    "        i6=i6+1\n",
    "    elif(y==7):\n",
    "        x7[i7,:,:]=xtrain1[i,:,:]\n",
    "        i7=i7+1\n",
    "    elif(y==8):\n",
    "        x8[i8,:,:]=xtrain1[i,:,:]\n",
    "        i8=i8+1\n",
    "    elif(y==9):\n",
    "        x9[i9,:,:]=xtrain1[i,:,:]\n",
    "        i9=i9+1\n",
    "   \n",
    "\n",
    "\n",
    "\n",
    "print(i0,i1,i2,i3,i4,i5,i6,i7,i8,i9)\n",
    "\n"
   ]
  },
  {
   "cell_type": "code",
   "execution_count": 45,
   "metadata": {},
   "outputs": [
    {
     "name": "stdout",
     "output_type": "stream",
     "text": [
      "70000\n"
     ]
    }
   ],
   "source": [
    "print(i0+i1+i2+i3+i4+i5+i6+i7+i8+i9)"
   ]
  },
  {
   "cell_type": "code",
   "execution_count": 46,
   "metadata": {},
   "outputs": [
    {
     "data": {
      "image/png": "[encoded data removed]",
      "text/plain": [
       "<matplotlib.figure.Figure at 0x7f7c7a3fd128>"
      ]
     },
     "metadata": {},
     "output_type": "display_data"
    },
    {
     "ename": "ValueError",
     "evalue": "The truth value of an array with more than one element is ambiguous. Use a.any() or a.all()",
     "output_type": "error",
     "traceback": [
      "\u001b[0;31m---------------------------------------------------------------------------\u001b[0m",
      "\u001b[0;31mValueError\u001b[0m                                Traceback (most recent call last)",
      "\u001b[0;32m<ipython-input-46-913bb4e61824>\u001b[0m in \u001b[0;36m<module>\u001b[0;34m()\u001b[0m\n\u001b[1;32m      2\u001b[0m \u001b[0mtemp\u001b[0m\u001b[0;34m=\u001b[0m\u001b[0mtemp\u001b[0m\u001b[0;34m.\u001b[0m\u001b[0mreshape\u001b[0m\u001b[0;34m(\u001b[0m\u001b[0;36m28\u001b[0m\u001b[0;34m,\u001b[0m\u001b[0;36m28\u001b[0m\u001b[0;34m)\u001b[0m\u001b[0;34m\u001b[0m\u001b[0m\n\u001b[1;32m      3\u001b[0m \u001b[0mplt\u001b[0m\u001b[0;34m.\u001b[0m\u001b[0mimshow\u001b[0m\u001b[0;34m(\u001b[0m\u001b[0mtemp\u001b[0m\u001b[0;34m,\u001b[0m\u001b[0mcmap\u001b[0m\u001b[0;34m=\u001b[0m\u001b[0;34m'gray'\u001b[0m\u001b[0;34m)\u001b[0m\u001b[0;34m\u001b[0m\u001b[0m\n\u001b[0;32m----> 4\u001b[0;31m \u001b[0mplt\u001b[0m\u001b[0;34m.\u001b[0m\u001b[0mshow\u001b[0m\u001b[0;34m(\u001b[0m\u001b[0mtemp\u001b[0m\u001b[0;34m,\u001b[0m\u001b[0;36m1\u001b[0m\u001b[0;34m)\u001b[0m\u001b[0;34m\u001b[0m\u001b[0m\n\u001b[0m",
      "\u001b[0;32m~/anaconda3/lib/python3.6/site-packages/matplotlib/pyplot.py\u001b[0m in \u001b[0;36mshow\u001b[0;34m(*args, **kw)\u001b[0m\n\u001b[1;32m    249\u001b[0m     \"\"\"\n\u001b[1;32m    250\u001b[0m     \u001b[0;32mglobal\u001b[0m \u001b[0m_show\u001b[0m\u001b[0;34m\u001b[0m\u001b[0m\n\u001b[0;32m--> 251\u001b[0;31m     \u001b[0;32mreturn\u001b[0m \u001b[0m_show\u001b[0m\u001b[0;34m(\u001b[0m\u001b[0;34m*\u001b[0m\u001b[0margs\u001b[0m\u001b[0;34m,\u001b[0m \u001b[0;34m**\u001b[0m\u001b[0mkw\u001b[0m\u001b[0;34m)\u001b[0m\u001b[0;34m\u001b[0m\u001b[0m\n\u001b[0m\u001b[1;32m    252\u001b[0m \u001b[0;34m\u001b[0m\u001b[0m\n\u001b[1;32m    253\u001b[0m \u001b[0;34m\u001b[0m\u001b[0m\n",
      "\u001b[0;32m~/anaconda3/lib/python3.6/site-packages/ipykernel/pylab/backend_inline.py\u001b[0m in \u001b[0;36mshow\u001b[0;34m(close, block)\u001b[0m\n\u001b[1;32m     39\u001b[0m         \u001b[0;31m# only call close('all') if any to close\u001b[0m\u001b[0;34m\u001b[0m\u001b[0;34m\u001b[0m\u001b[0m\n\u001b[1;32m     40\u001b[0m         \u001b[0;31m# close triggers gc.collect, which can be slow\u001b[0m\u001b[0;34m\u001b[0m\u001b[0;34m\u001b[0m\u001b[0m\n\u001b[0;32m---> 41\u001b[0;31m         \u001b[0;32mif\u001b[0m \u001b[0mclose\u001b[0m \u001b[0;32mand\u001b[0m \u001b[0mGcf\u001b[0m\u001b[0;34m.\u001b[0m\u001b[0mget_all_fig_managers\u001b[0m\u001b[0;34m(\u001b[0m\u001b[0;34m)\u001b[0m\u001b[0;34m:\u001b[0m\u001b[0;34m\u001b[0m\u001b[0m\n\u001b[0m\u001b[1;32m     42\u001b[0m             \u001b[0mmatplotlib\u001b[0m\u001b[0;34m.\u001b[0m\u001b[0mpyplot\u001b[0m\u001b[0;34m.\u001b[0m\u001b[0mclose\u001b[0m\u001b[0;34m(\u001b[0m\u001b[0;34m'all'\u001b[0m\u001b[0;34m)\u001b[0m\u001b[0;34m\u001b[0m\u001b[0m\n\u001b[1;32m     43\u001b[0m \u001b[0;34m\u001b[0m\u001b[0m\n",
      "\u001b[0;31mValueError\u001b[0m: The truth value of an array with more than one element is ambiguous. Use a.any() or a.all()"
     ]
    }
   ],
   "source": [
    "temp=x4[7]\n",
    "temp=temp.reshape(28,28)\n",
    "plt.imshow(temp,cmap='gray')\n",
    "plt.show(temp,1)"
   ]
  },
  {
   "cell_type": "code",
   "execution_count": 47,
   "metadata": {
    "collapsed": true
   },
   "outputs": [],
   "source": [
    "f0= model1.predict(x0)\n",
    "f1= model1.predict(x1)\n",
    "f2= model1.predict(x2)\n",
    "f3= model1.predict(x3)\n",
    "f4= model1.predict(x4)\n",
    "f5= model1.predict(x5)\n",
    "f6= model1.predict(x6)\n",
    "f7= model1.predict(x7)\n",
    "f8= model1.predict(x8)\n",
    "f9= model1.predict(x9)\n",
    "\n",
    "\n"
   ]
  },
  {
   "cell_type": "code",
   "execution_count": 48,
   "metadata": {},
   "outputs": [
    {
     "name": "stdout",
     "output_type": "stream",
     "text": [
      "(7030, 1600) (6995, 1600) (7050, 1600) (7003, 1600) (6873, 1600) (6945, 1600) (6987, 1600) (7087, 1600) (7025, 1600) (7005, 1600)\n"
     ]
    }
   ],
   "source": [
    "print(f0.shape,f1.shape,f2.shape,f3.shape,f4.shape,f5.shape,f6.shape,f7.shape,f8.shape,f9.shape)"
   ]
  },
  {
   "cell_type": "code",
   "execution_count": 49,
   "metadata": {
    "collapsed": true
   },
   "outputs": [],
   "source": [
    "np.savetxt('f0_marathi_new.csv', f0, delimiter=\",\", fmt=\"%s\") "
   ]
  },
  {
   "cell_type": "code",
   "execution_count": 50,
   "metadata": {
    "collapsed": true
   },
   "outputs": [],
   "source": [
    "np.savetxt('f1_marathi_new.csv', f1, delimiter=\",\", fmt=\"%s\") \n",
    "np.savetxt('f2_marathi_new.csv', f2, delimiter=\",\", fmt=\"%s\") \n",
    "np.savetxt('f3_marathi_new.csv', f3, delimiter=\",\", fmt=\"%s\") \n",
    "np.savetxt('f4_marathi_new.csv', f4, delimiter=\",\", fmt=\"%s\") \n",
    "np.savetxt('f5_marathi_new.csv', f5, delimiter=\",\", fmt=\"%s\") \n",
    "np.savetxt('f6_marathi_new.csv', f6, delimiter=\",\", fmt=\"%s\") \n",
    "np.savetxt('f7_marathi_new.csv', f7, delimiter=\",\", fmt=\"%s\") \n",
    "np.savetxt('f8_marathi_new.csv', f8, delimiter=\",\", fmt=\"%s\") \n",
    "np.savetxt('f9_marathi_new.csv', f9, delimiter=\",\", fmt=\"%s\") "
   ]
  },
  {
   "cell_type": "code",
   "execution_count": 52,
   "metadata": {},
   "outputs": [
    {
     "name": "stdout",
     "output_type": "stream",
     "text": [
      "_________________________________________________________________\n",
      "Layer (type)                 Output Shape              Param #   \n",
      "=================================================================\n",
      "conv2d_4 (Conv2D)            (None, 32, 26, 26)        320       \n",
      "_________________________________________________________________\n",
      "activation_4 (Activation)    (None, 32, 26, 26)        0         \n",
      "_________________________________________________________________\n",
      "conv2d_5 (Conv2D)            (None, 32, 24, 24)        9248      \n",
      "_________________________________________________________________\n",
      "activation_5 (Activation)    (None, 32, 24, 24)        0         \n",
      "_________________________________________________________________\n",
      "max_pooling2d_3 (MaxPooling2 (None, 32, 12, 12)        0         \n",
      "_________________________________________________________________\n",
      "conv2d_6 (Conv2D)            (None, 64, 10, 10)        18496     \n",
      "_________________________________________________________________\n",
      "activation_6 (Activation)    (None, 64, 10, 10)        0         \n",
      "_________________________________________________________________\n",
      "max_pooling2d_4 (MaxPooling2 (None, 64, 5, 5)          0         \n",
      "_________________________________________________________________\n",
      "dropout_4 (Dropout)          (None, 64, 5, 5)          0         \n",
      "_________________________________________________________________\n",
      "flatten_2 (Flatten)          (None, 1600)              0         \n",
      "_________________________________________________________________\n",
      "dropout_5 (Dropout)          (None, 1600)              0         \n",
      "_________________________________________________________________\n",
      "dense_4 (Dense)              (None, 400)               640400    \n",
      "_________________________________________________________________\n",
      "dropout_6 (Dropout)          (None, 400)               0         \n",
      "_________________________________________________________________\n",
      "dense_5 (Dense)              (None, 150)               60150     \n",
      "_________________________________________________________________\n",
      "dense_6 (Dense)              (None, 10)                1510      \n",
      "=================================================================\n",
      "Total params: 730,124\n",
      "Trainable params: 730,124\n",
      "Non-trainable params: 0\n",
      "_________________________________________________________________\n"
     ]
    }
   ],
   "source": [
    "model.summary()"
   ]
  },
  {
   "cell_type": "code",
   "execution_count": 24,
   "metadata": {},
   "outputs": [
    {
     "name": "stdout",
     "output_type": "stream",
     "text": [
      "(32, 26, 26)\n"
     ]
    },
    {
     "ename": "NameError",
     "evalue": "name 'f7' is not defined",
     "output_type": "error",
     "traceback": [
      "\u001b[0;31m---------------------------------------------------------------------------\u001b[0m",
      "\u001b[0;31mNameError\u001b[0m                                 Traceback (most recent call last)",
      "\u001b[0;32m<ipython-input-24-66b9b1a4ee9c>\u001b[0m in \u001b[0;36m<module>\u001b[0;34m()\u001b[0m\n\u001b[1;32m      1\u001b[0m \u001b[0mprint\u001b[0m\u001b[0;34m(\u001b[0m\u001b[0mf1\u001b[0m\u001b[0;34m.\u001b[0m\u001b[0mshape\u001b[0m\u001b[0;34m)\u001b[0m\u001b[0;34m\u001b[0m\u001b[0m\n\u001b[1;32m      2\u001b[0m \u001b[0;34m\u001b[0m\u001b[0m\n\u001b[0;32m----> 3\u001b[0;31m \u001b[0mtemp\u001b[0m\u001b[0;34m=\u001b[0m\u001b[0mf7\u001b[0m\u001b[0;34m[\u001b[0m\u001b[0;36m1\u001b[0m\u001b[0;34m]\u001b[0m\u001b[0;34m\u001b[0m\u001b[0m\n\u001b[0m\u001b[1;32m      4\u001b[0m \u001b[0;34m\u001b[0m\u001b[0m\n\u001b[1;32m      5\u001b[0m \u001b[0;34m\u001b[0m\u001b[0m\n",
      "\u001b[0;31mNameError\u001b[0m: name 'f7' is not defined"
     ]
    }
   ],
   "source": [
    "print(f1.shape)\n",
    "\n",
    "temp=f7[1]\n",
    "\n",
    "\n",
    "temp=temp.reshape(64,5,5)\n",
    "\n",
    "n = temp.shape[0]\n",
    "n = int(np.ceil(np.sqrt(n)))\n",
    "fig = plt.figure(figsize=(12,8))\n",
    "for i in range(len(temp)):\n",
    "    ax = fig.add_subplot(n,n,i+1)\n",
    "    ax.imshow(temp[i], cmap='gray')\n"
   ]
  },
  {
   "cell_type": "code",
   "execution_count": 55,
   "metadata": {},
   "outputs": [
    {
     "data": {
      "image/png": "[encoded data removed]",
      "text/plain": [
       "<matplotlib.figure.Figure at 0x7f7c7a3fd128>"
      ]
     },
     "metadata": {},
     "output_type": "display_data"
    },
    {
     "data": {
      "image/png": "[encoded data removed]",
      "text/plain": [
       "<matplotlib.figure.Figure at 0x7f7c7a425898>"
      ]
     },
     "metadata": {},
     "output_type": "display_data"
    }
   ],
   "source": [
    "plt.show()"
   ]
  }
 ],
 "metadata": {
  "kernelspec": {
   "display_name": "Python 3",
   "language": "python",
   "name": "python3"
  },
  "language_info": {
   "codemirror_mode": {
    "name": "ipython",
    "version": 3
   },
   "file_extension": ".py",
   "mimetype": "text/x-python",
   "name": "python",
   "nbconvert_exporter": "python",
   "pygments_lexer": "ipython3",
   "version": "3.6.3"
  }
 },
 "nbformat": 4,
 "nbformat_minor": 2
}
